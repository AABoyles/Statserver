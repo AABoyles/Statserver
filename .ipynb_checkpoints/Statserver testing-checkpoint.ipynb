{
 "metadata": {
  "name": "",
  "signature": "sha256:79270f9f7a0f88589c76e72f85a6471195de554f6410dded3a3f97bcdafab522"
 },
 "nbformat": 3,
 "nbformat_minor": 0,
 "worksheets": []
}